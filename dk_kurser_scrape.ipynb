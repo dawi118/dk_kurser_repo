{
  "cells": [
    {
      "cell_type": "markdown",
      "metadata": {
        "id": "view-in-github",
        "colab_type": "text"
      },
      "source": [
        "<a href=\"https://colab.research.google.com/github/dawi118/dk_kurser_repo/blob/main/dk_kurser_scrape.ipynb\" target=\"_parent\"><img src=\"https://colab.research.google.com/assets/colab-badge.svg\" alt=\"Open In Colab\"/></a>"
      ]
    },
    {
      "cell_type": "markdown",
      "id": "2e462553",
      "metadata": {
        "id": "2e462553"
      },
      "source": [
        "Part 1: URL Discovery"
      ]
    },
    {
      "cell_type": "code",
      "source": [
        "!pip install langdetect"
      ],
      "metadata": {
        "colab": {
          "base_uri": "https://localhost:8080/"
        },
        "id": "pbwGgn8ssD0X",
        "outputId": "c3f77b43-85e1-48c1-8b76-1e7958ea4e14"
      },
      "id": "pbwGgn8ssD0X",
      "execution_count": 5,
      "outputs": [
        {
          "output_type": "stream",
          "name": "stdout",
          "text": [
            "Requirement already satisfied: langdetect in /usr/local/lib/python3.11/dist-packages (1.0.9)\n",
            "Requirement already satisfied: six in /usr/local/lib/python3.11/dist-packages (from langdetect) (1.17.0)\n"
          ]
        }
      ]
    },
    {
      "cell_type": "code",
      "execution_count": 6,
      "id": "d8d0e02c",
      "metadata": {
        "id": "d8d0e02c"
      },
      "outputs": [],
      "source": [
        "# This notebook discovers and saves all individual course URLs from the KU archive.\n",
        "\n",
        "# --- Libraries ---\n",
        "import re\n",
        "import requests\n",
        "from bs4 import BeautifulSoup, Tag\n",
        "from urllib.parse import urljoin, urlparse\n",
        "import time\n",
        "from langdetect import detect, DetectorFactory\n",
        "import html\n",
        "import unicodedata\n",
        "import json\n",
        "import logging\n",
        "from pathlib import Path\n",
        "import matplotlib.pyplot as plt\n",
        "\n",
        "# --- Config ---\n",
        "BASE_URL = \"https://kurser.ku.dk\"\n",
        "ARCHIVE_PATH = \"/archive\"\n",
        "ARCHIVE_ROOT = f\"{BASE_URL}{ARCHIVE_PATH}/\"   # 'https://kurser.ku.dk/archive/'\n",
        "HEADERS = {\n",
        "    'User-Agent': 'Mozilla/5.0 (Windows NT 10.0; Win64; x64) AppleWebKit/537.36 (KHTML, like Gecko) Chrome/91.0.4472.124 Safari/537.36'\n",
        "}\n",
        "OUTPUT_FILE = \"all_course_urls.txt\"\n",
        "PAUSE_BETWEEN_COURSES = 0.4\n",
        "\n",
        "# --- Regex helpers (for managing inconsistent URL formatting)---\n",
        "YEAR_RE        = re.compile(r\"^/?archive/(\\d{4}-\\d{4})/?$\")\n",
        "BOARD_RE_TPL   = r\"^(?:/?archive/)?{year}/(?!course/)[^/]+/?$\"\n",
        "COURSE_RE_TPL  = r\"^(?:/?archive/)?{year}/course/[A-Z0-9]+/?$\"\n",
        "\n",
        "# --- Functions ---\n",
        "\n",
        "# make_abs: normalises URLs by removing extra whitespace and deduplicating 'archive/' prefix\n",
        "def make_abs(href: str) -> str:\n",
        "    href = href.lstrip('/')\n",
        "    if href.startswith('archive/'):\n",
        "        href = href[len('archive/'):]             # <- avoid double 'archive/' in URL\n",
        "    return urljoin(ARCHIVE_ROOT, href)\n",
        "\n",
        "# get_soup: fetches a URL and returns a BeautifulSoup object for parsing HTML content\n",
        "def get_soup(url):\n",
        "    try:\n",
        "        response = requests.get(url, headers=HEADERS)\n",
        "        response.raise_for_status()  # Raise an exception for bad status codes (4xx or 5xx)\n",
        "        return BeautifulSoup(response.content, 'html.parser')\n",
        "    except requests.exceptions.RequestException as e:\n",
        "        print(f\"Error fetching {url}: {e}\")\n",
        "        return None\n",
        "\n",
        "# discover_studyboard_links: finds all study board links for a given year\n",
        "def discover_studyboard_links(year_soup, year_slug):\n",
        "    board_links = set()\n",
        "    board_re = re.compile(BOARD_RE_TPL.format(year=re.escape(year_slug)))\n",
        "    for a in year_soup.find_all(\"a\", href=True):\n",
        "        href = a[\"href\"].strip()\n",
        "        if board_re.match(href) and \"/course/\" not in href:\n",
        "            board_links.add(make_abs(href))      # <— patched\n",
        "    return sorted(board_links)\n",
        "\n",
        "# discover_course_links_from_board: extracts course links from a study board page\n",
        "def discover_course_links_from_board(board_soup, year_slug):\n",
        "    course_links = set()\n",
        "    course_re = re.compile(COURSE_RE_TPL.format(year=re.escape(year_slug)))\n",
        "    for a in board_soup.find_all(\"a\", href=True):\n",
        "        href = a[\"href\"].strip()\n",
        "        if course_re.match(href):\n",
        "            course_links.add(make_abs(href))     # <— patched\n",
        "    return course_links\n",
        "\n",
        "# --- Main Function Call ---\n",
        "\n",
        "# discover_course_links_from_year: extracts course links (within study boards) for a given year\n",
        "def discover_course_links_from_year(year_url):\n",
        "    print(f\"  Scraping year: {year_url}\")\n",
        "    year_soup = get_soup(year_url)\n",
        "    if not year_soup:\n",
        "        return set()\n",
        "\n",
        "    year_slug  = year_url.rstrip(\"/\").split(\"/\")[-1]\n",
        "    all_courses = set()\n",
        "\n",
        "    # Discover all study board links for the year\n",
        "    boards = discover_studyboard_links(year_soup, year_slug)\n",
        "    print(f\"    Found {len(boards)} study boards\")\n",
        "\n",
        "    # Loop through each board URL to uncover course links\n",
        "    for bd_url in boards:\n",
        "        bd_soup = get_soup(bd_url)\n",
        "        if not bd_soup:\n",
        "            continue\n",
        "        courses = discover_course_links_from_board(bd_soup, year_slug)\n",
        "        all_courses.update(courses)\n",
        "        time.sleep(PAUSE_BETWEEN_COURSES)\n",
        "\n",
        "    # Console output and file writing\n",
        "    print(f\"    Found {len(all_courses)} course links for this year.\")\n",
        "    with open(OUTPUT_FILE, 'w', encoding='utf-8') as f:\n",
        "                for course_url in sorted(list(all_courses)):\n",
        "                    f.write(course_url + \"\\n\")\n",
        "                print(f\"All URLs saved to {OUTPUT_FILE}\")\n",
        "    return all_courses"
      ]
    },
    {
      "cell_type": "code",
      "execution_count": 7,
      "id": "4e30ac6d",
      "metadata": {
        "colab": {
          "base_uri": "https://localhost:8080/"
        },
        "id": "4e30ac6d",
        "outputId": "5a50eac4-afab-49ec-d5e7-530cfe6dd2b4"
      },
      "outputs": [
        {
          "output_type": "stream",
          "name": "stdout",
          "text": [
            "  Scraping year: https://kurser.ku.dk/archive/2023-2024\n",
            "    Found 36 study boards\n",
            "    Found 3152 course links for this year.\n",
            "All URLs saved to all_course_urls.txt\n"
          ]
        }
      ],
      "source": [
        "# --- Execution ---\n",
        "# 2023-2024 (PoC)\n",
        "if __name__ == \"__main__\":\n",
        "    y2023 = \"https://kurser.ku.dk/archive/2023-2024\"\n",
        "    discover_course_links_from_year(y2023)"
      ]
    },
    {
      "cell_type": "markdown",
      "id": "7ad73690",
      "metadata": {
        "id": "7ad73690"
      },
      "source": [
        "Part 2: Extracting text from a single site page"
      ]
    },
    {
      "cell_type": "code",
      "execution_count": 8,
      "id": "ad63c0d7",
      "metadata": {
        "id": "ad63c0d7"
      },
      "outputs": [],
      "source": [
        "# This notebook develops and tests the extraction logic for a single course page\n",
        "\n",
        "# --- Config ---\n",
        "\n",
        "# Sample URLs for initial testing\n",
        "SAMPLE_URL = \"https://kurser.ku.dk/archive/2023-2024/course/HFIB00821U\"  # English test course ID (append): LOJK10281U, Danish: HFIB00821U\n",
        "HEADERS = {\n",
        "    'User-Agent': 'Mozilla/5.0 (Windows NT 10.0; Win64; x64) AppleWebKit/537.36 (KHTML, like Gecko) Chrome/91.0.4472.124 Safari/537.36'\n",
        "}\n",
        "PAUSE_BETWEEN_COURSES = 0.4\n",
        "DetectorFactory.seed = 0                     # reproducible results for langdetect\n",
        "\n",
        "# --- Helpers (text extraction) ---\n",
        "\n",
        "# Splitter dictionary: for separating learning outcomes into sections and extracting knowledge/skills/competencies\n",
        "SECTION_MAP = {\n",
        "    \"knowledge\"   : [\"knowledge\", \"viden\"],\n",
        "    \"skills\"      : [\"skills\", \"færdigheder\", \"faerdigheder\"],\n",
        "    \"competencies\": [\"competencies\", \"competence\", \"competences\", \"kompetencer\"],\n",
        "}\n",
        "\n",
        "# Coordinator headings dictionary: for identifying course coordinators on English and Danish pages\n",
        "COORD_HEADINGS = [\n",
        "    r'^course\\s+coordinators$',     # English\n",
        "    r'^kursusansvarlige$',          # Danish\n",
        "]\n",
        "\n",
        "# --- Functions ---\n",
        "\n",
        "# clean: normalises text by removing extra whitespace\n",
        "def clean(text: str | None) -> str | None:\n",
        "    if not text:\n",
        "        return text\n",
        "    return re.sub(r'\\s+', ' ', text).strip()\n",
        "\n",
        "# deaccent: removes accents from characters in a string\n",
        "def deaccent(txt: str) -> str:\n",
        "    return ''.join(\n",
        "        c for c in unicodedata.normalize('NFKD', txt)\n",
        "        if not unicodedata.combining(c)\n",
        "    )\n",
        "\n",
        "# normalise: lower-cases, strips leading bullets/dashes/spaces and trailing punctuation - flag as duplicate\n",
        "def normalise(txt: str) -> str:\n",
        "    txt = re.sub(r'^[\\s•\\-–—]+', '', txt, flags=re.UNICODE)   # leading marks\n",
        "    txt = txt.lower()\n",
        "    txt = re.sub(r'[:—\\-\\s]+$', '', txt)                      # trailing ':'/dash\n",
        "    return txt.strip()\n",
        "\n",
        "# parse_email_from_onclick: decodes old multi-arg pattern for email addresses (not functional) - returns raw hex blob instead\n",
        "def parse_email_from_onclick(onclick_attr):\n",
        "    if not onclick_attr:\n",
        "        return None\n",
        "\n",
        "    # ❶ Old multi-argument variant\n",
        "    parts = re.findall(r\"'([^']+)'\", onclick_attr)\n",
        "    if len(parts) >= 2:\n",
        "        if \".\" not in parts[0]:                       # heuristic: looks like a name, not a hex blob\n",
        "            local  = parts[0]\n",
        "            domain = '.'.join(parts[1:])\n",
        "            domain = domain.replace('.', '@', 1)      # first dot → '@'\n",
        "            return f\"{local}@{domain}\"\n",
        "\n",
        "    # ❷ New single-blob variant -> just return it raw for now\n",
        "    blob_match = re.search(r\"'([^']+)'\", onclick_attr)\n",
        "    if blob_match:\n",
        "        return f\"obfuscated:{blob_match.group(1)}\"    # keep track for later decoding\n",
        "\n",
        "    return None\n",
        "\n",
        "# split_learning_outcomes: robust splitter for learning outcomes - Returns dict with keys 'knowledge' / 'skills' / 'competencies' (En, Da), accepts headings with bullets, dashes, accents, and regex '?'\n",
        "def split_learning_outcomes(raw_text: str) -> dict[str, str]:\n",
        "    # build a normalised lookup\n",
        "\n",
        "    variant2key = {normalise(v): k for k, vs in SECTION_MAP.items() for v in vs}\n",
        "\n",
        "    # scan the text line by line\n",
        "    lines = raw_text.splitlines()\n",
        "    current = None\n",
        "    buckets = {k: [] for k in SECTION_MAP}\n",
        "\n",
        "    for line in lines:\n",
        "        txt_norm = normalise(line)\n",
        "        matched_key = None\n",
        "        for variant_norm, key_name in variant2key.items():\n",
        "        # a heading counts if the normalised variant appears\n",
        "        # either as a standalone word OR as \"<variant>:\" in the line\n",
        "            if f\"{variant_norm}:\" in txt_norm or variant_norm in txt_norm.split():\n",
        "                matched_key = key_name\n",
        "                break\n",
        "        if matched_key:\n",
        "            current = matched_key\n",
        "            continue\n",
        "        if current:\n",
        "            buckets[current].append(line.strip())\n",
        "\n",
        "    # collapse whitespace & return\n",
        "    clean_bucket = lambda lst: re.sub(r\"\\s+\", \" \", \" \".join(lst)).strip() or None\n",
        "    return {k: clean_bucket(v) for k, v in buckets.items()}\n",
        "\n",
        "# --- Main Function Call ---\n",
        "\n",
        "# extract_course_data: extracts all required data points from a course page soup object\n",
        "def extract_course_data(soup, url):\n",
        "    data = {\n",
        "        'year': None, 'course_code': None, 'course_title': None,\n",
        "        'coordinators': None, 'coordinator_emails': None, 'content': None,\n",
        "        'learning_outcomes': None, 'knowledge': None, 'skills': None,\n",
        "        'competencies': None, 'language': None, 'level': None, 'web_lang': None\n",
        "    }\n",
        "\n",
        "    # 1. Year and Course Code from URL\n",
        "    parts = urlparse(url).path.strip('/').split('/')\n",
        "    # URL pattern: ['archive', '2023-2024', 'course', 'LOJK10281U']\n",
        "    if len(parts) >= 4:\n",
        "        data['year'] = parts[1]          # '2023-2024'\n",
        "        data['course_code'] = parts[-1]  # 'LOJK10281U'\n",
        "\n",
        "    # 2. Course title (keeps \"Cancelled\" for reference, removes duplicate code)\n",
        "    h1 = soup.find('h1', class_='courseTitle')\n",
        "    if h1:\n",
        "        status_span = h1.find('span')\n",
        "        status_text = \"\"\n",
        "        if status_span:\n",
        "            status_text = status_span.get_text(strip=True)\n",
        "            status_span.extract()  # drop from <h1> so it isn’t duplicated\n",
        "        raw = html.unescape(h1.get_text(\" \", strip=True)).replace('\\xa0', ' ')\n",
        "        raw = re.sub(r'\\s+', ' ', raw).strip()          # <-- NEW: collapse CR/LF/Tabs to one space\n",
        "        # raw now like: \"LOJK10281U Animals in Society\"\n",
        "\n",
        "        tokens = raw.split(maxsplit=1)\n",
        "        if tokens:\n",
        "            # tokens[0] is the code – discard; tokens[1] (if present) is the human title\n",
        "            title_core = tokens[1] if len(tokens) > 1 else \"\"\n",
        "            data['course_title'] = f\"{status_text} {title_core}\".strip() if status_text else title_core\n",
        "\n",
        "\n",
        "    # 3. Coordinators and Emails\n",
        "        names, mails = [], []\n",
        "\n",
        "    # find the first <h5> whose text matches any accepted heading\n",
        "    coord_h5 = None\n",
        "    for pat in COORD_HEADINGS:\n",
        "        coord_h5 = soup.find('h5', string=re.compile(pat, re.I))\n",
        "        if coord_h5:\n",
        "            break                       # stop at the first match\n",
        "\n",
        "    if coord_h5:\n",
        "        # the UL that follows the <h5>\n",
        "        ul = coord_h5.find_next('ul', class_='list-unstyled')\n",
        "        if ul:\n",
        "            for li in ul.find_all('li', recursive=False):\n",
        "                # ---- e-mail (span with onclick=\"mail(...)\") ----\n",
        "                span = li.find(attrs={'onclick': re.compile(r\"mail\\(\")})\n",
        "                if span:\n",
        "                    email = parse_email_from_onclick(span.get('onclick'))\n",
        "                    if email:\n",
        "                        mails.append(email)\n",
        "                    span.extract()       # remove span so name text stays clean\n",
        "\n",
        "                # ---- coordinator name (remaining li text) ----\n",
        "                name_text = re.sub(r'\\s+', ' ', li.get_text(\" \", strip=True))\n",
        "                if name_text:\n",
        "                    names.append(name_text)\n",
        "\n",
        "    # deduplicate while preserving order\n",
        "    def dedup(seq):\n",
        "        seen, out = set(), []\n",
        "        for x in seq:\n",
        "            if x not in seen:\n",
        "                seen.add(x); out.append(x)\n",
        "        return out\n",
        "\n",
        "    data['coordinators']        = dedup(names)  or None\n",
        "    data['coordinator_emails']  = dedup(mails)  or None\n",
        "\n",
        "    # 4. Content\n",
        "    content_div = soup.find('div', class_='course-item course-content')\n",
        "    if content_div:\n",
        "        data['content'] = content_div.get_text(separator=' ', strip=True)\n",
        "\n",
        "    # 5. Learning Outcomes (main container)\n",
        "    learning_div = soup.find('div', class_='course-description')\n",
        "    if learning_div:\n",
        "        full_txt = learning_div.get_text(\"\\n\", strip=True)\n",
        "        data['learning_outcomes'] = clean(full_txt)\n",
        "        sect = split_learning_outcomes(full_txt)\n",
        "        data.update(sect)          # merges knowledge / skills / competencies\n",
        "\n",
        "\n",
        "\n",
        "    # 7. Language and Level\n",
        "    for dl in soup.find_all('dl', class_=re.compile(r'dl[-_]horizontal')):\n",
        "        for dt in dl.find_all('dt'):\n",
        "            key_raw = dt.get_text(strip=True).lower()\n",
        "            dd = dt.find_next_sibling('dd')\n",
        "            if not dd:\n",
        "                continue\n",
        "            val = clean(dd.get_text(\" \", strip=True))\n",
        "            if not val:\n",
        "                continue\n",
        "\n",
        "            # ── NEW multilingual matching ──────────────────────────\n",
        "            if any(tok in key_raw for tok in ('language', 'sprog', 'undervisningssprog')) \\\n",
        "            and not data['language']:\n",
        "                data['language'] = val\n",
        "\n",
        "            elif any(tok in key_raw for tok in ('level', 'niveau')) \\\n",
        "                and not data['level']:\n",
        "                data['level'] = val\n",
        "            # ───────────────────────────────────────────────────────\n",
        "        if data['language'] and data['level']:\n",
        "            break\n",
        "\n",
        "    # 8. Clean up text output\n",
        "    for k in ('content', 'learning_outcomes', 'knowledge',\n",
        "          'skills', 'competencies'):\n",
        "        data[k] = clean(data[k])\n",
        "\n",
        "    # 9. Detect page language (content-based)\n",
        "    sample_text = (\n",
        "        data['content']\n",
        "        or data['learning_outcomes']\n",
        "        or data['course_title']\n",
        "        or ''\n",
        "    )\n",
        "\n",
        "    try:\n",
        "        lang_code = detect(sample_text) if sample_text else 'unknown'\n",
        "    except Exception:\n",
        "        lang_code = 'unknown'\n",
        "    data['web_lang'] = lang_code              # e.g. 'en', 'da', 'unknown'\n",
        "    return data"
      ]
    },
    {
      "cell_type": "code",
      "execution_count": 9,
      "id": "9d6df9d9",
      "metadata": {
        "colab": {
          "base_uri": "https://localhost:8080/"
        },
        "id": "9d6df9d9",
        "outputId": "d8699154-839d-4c58-c8a2-0f1efeb10e26"
      },
      "outputs": [
        {
          "output_type": "stream",
          "name": "stdout",
          "text": [
            "Testing extraction on sample URL: https://kurser.ku.dk/archive/2023-2024/course/HFIB00821U\n",
            "\n",
            "--- Extracted Data ---\n",
            "{\n",
            " \"year\": \"2023-2024\",\n",
            " \"course_code\": \"HFIB00821U\",\n",
            " \"course_title\": \"FILO Videnskabsfilosofi og anvendt filosofi\",\n",
            " \"coordinators\": [\n",
            "  \"Thor Grünbaum\"\n",
            " ],\n",
            " \"coordinator_emails\": [\n",
            "  \"obfuscated:3-8376814f77847c3d7a843d737a\"\n",
            " ],\n",
            " \"content\": \"Kursusindhold Kurset er delt i to moduler: Videnskabsfilosofi og anvendt filosofi Modul 1: Videnskabsfilosofi I Videnskabsfilosofi vil vi introducere til nyere diskussioner i videnskabsfilosofi. Særligt fokus ligger på at forstå forskellige videnskabers rolle i et demokratisk samfund. Undervisningen dækker centrale emner i videnskabsfilosofi, herunder videnskabelige paradigmer, evidens, lovmæssigheder, modeller, forklaringer, realisme/konstruktivisme, centrale træk ved naturvidenskab og samfundsvidenskab samt forholdet mellem videnskab og demokrati. Modul 2: Anvendt filosofi I Anvendt filosofi introduceres de studerende til generelle overvejelser omkring hvad anvendt filosofi er og 4-6 emner/cases i anvendt filosofi fordelt på praktisk og teoretisk filosofi. Seminarundervisningen i fagelementets anden del understøtter de studerendes arbejde med deres selvvalgte opgave. Modulet drejer sig om at få filosofiske begreber og teorier i spil i forhold til konkrete, levende emner ”derude”, med den forhåbning at empirisk velinformeret filosofisk analyse og begrebsarbejde kan bidrage til bedre forståelse, mere klarhed og, nogle gange, bedre håndtering af de problemer, emnerne derude måtte indeholde.\",\n",
            " \"learning_outcomes\": \"Målbeskrivelser Ved prøven kan den studerende demonstrere: Viden om og forståelse af teoridannelser, der dækker centrale emner i videnskabsfilosofi, herunder videnskabelige paradigmer, metoder, teorier, evidens, lovmæssigheder, modeller, forklaringer, realisme/​konstruktivisme, centrale træk ved naturvidenskab, samfundsvidenskab og humaniora samt forholdet mellem videnskab og demokrati. viden om paradigmatiske former for anvendt filosofi og deres metodologiske forudsætninger. den historiske kontekst for emneområdets begreber, problemer og metoder. Færdigheder i at redegøre klart og selvstændigt for udvalgte problemstillinger, positioner og argumenter inden for fagelementets områder. beskrive begreber, teorier og argumenter i deres tekstmæssige sammenhæng på en præcis og veldokumenteret måde. kontekstualisere videnskabsfilosofiske problemer i deres historiske og systematiske sammenhæng. redegøre for en række paradigmatiske eksempler på anvendt filosofi og kunne identificere og sondre mellem de vigtigste forestillinger om, hvad anvendt filosofi er. Kompetencer til at identificere centrale videnskabsfilosofiske problemer og anvende relevant teori i forhold til disse. afgrænse et problem i anvendt filosofi. indsamle og behandle relevant fagfilosofisk litteratur om problemet anvende filosofisk analyse eller behandling af problemet, som kan indeholde løsningsforslag, anbefalinger, udredninger mv. anvende bibliografiske søgeredskaber og andre relevante redskaber til at behandle problemet.\",\n",
            " \"knowledge\": \"teoridannelser, der dækker centrale emner i videnskabsfilosofi, herunder videnskabelige paradigmer, metoder, teorier, evidens, lovmæssigheder, modeller, forklaringer, realisme/​konstruktivisme, centrale træk ved naturvidenskab, samfundsvidenskab og humaniora samt forholdet mellem videnskab og demokrati. metodologiske forudsætninger. den historiske kontekst for emneområdets begreber, problemer og metoder.\",\n",
            " \"skills\": \"redegøre klart og selvstændigt for udvalgte problemstillinger, positioner og argumenter inden for fagelementets områder. beskrive begreber, teorier og argumenter i deres tekstmæssige sammenhæng på en præcis og veldokumenteret måde. kontekstualisere videnskabsfilosofiske problemer i deres historiske og systematiske sammenhæng. redegøre for en række paradigmatiske eksempler på anvendt filosofi og kunne identificere og sondre mellem de vigtigste forestillinger om, hvad anvendt filosofi er.\",\n",
            " \"competencies\": \"identificere centrale videnskabsfilosofiske problemer og anvende relevant teori i forhold til disse. afgrænse et problem i anvendt filosofi. indsamle og behandle relevant fagfilosofisk litteratur om problemet anvende filosofisk analyse eller behandling af problemet, som kan indeholde løsningsforslag, anbefalinger, udredninger mv. anvende bibliografiske søgeredskaber og andre relevante redskaber til at behandle problemet.\",\n",
            " \"language\": \"Dansk\",\n",
            " \"level\": \"Bachelor Bachelor tilvalg, Kandidatsidefag\",\n",
            " \"web_lang\": \"da\"\n",
            "}\n",
            "----------------------\n"
          ]
        }
      ],
      "source": [
        "# --- Execution ---\n",
        "if __name__ == \"__main__\":\n",
        "    print(f\"Testing extraction on sample URL: {SAMPLE_URL}\")\n",
        "    sample_soup = get_soup(SAMPLE_URL)\n",
        "\n",
        "    if sample_soup:\n",
        "        course_data = extract_course_data(sample_soup, SAMPLE_URL)\n",
        "\n",
        "        # Pretty print the result for verification\n",
        "        import json, pprint\n",
        "        print(\"\\n--- Extracted Data ---\")\n",
        "        print(json.dumps(course_data, indent=1, ensure_ascii=False))\n",
        "        print(\"----------------------\")\n",
        "    else:\n",
        "        print(\"Failed to retrieve sample page for testing.\")"
      ]
    },
    {
      "cell_type": "markdown",
      "id": "f55b9bb6",
      "metadata": {
        "id": "f55b9bb6"
      },
      "source": [
        "Part 3: Extracting text from multiple courses over a single study board"
      ]
    },
    {
      "cell_type": "code",
      "execution_count": 10,
      "id": "66b319e7",
      "metadata": {
        "colab": {
          "base_uri": "https://localhost:8080/"
        },
        "id": "66b319e7",
        "outputId": "9ebe1e0d-c18c-42be-c65a-37b7d52afd24"
      },
      "outputs": [
        {
          "output_type": "stream",
          "name": "stdout",
          "text": [
            "Target year: https://kurser.ku.dk/archive/2023-2024\n"
          ]
        }
      ],
      "source": [
        "# --- Config ---\n",
        "TARGET_YEAR  = \"2023-2024\"                     # change if needed\n",
        "YEAR_URL     = f\"https://kurser.ku.dk/archive/{TARGET_YEAR}\"\n",
        "PAUSE_BETWEEN_COURSES = 0.4                    # avoid overwhelming the server\n",
        "OUT_FILE     = Path(f\"courses_{TARGET_YEAR}_board.json\")\n",
        "\n",
        "# Reference base URL for the target year\n",
        "print(\"Target year:\", YEAR_URL)"
      ]
    },
    {
      "cell_type": "code",
      "execution_count": 11,
      "id": "7b4a1d44",
      "metadata": {
        "colab": {
          "base_uri": "https://localhost:8080/"
        },
        "id": "7b4a1d44",
        "outputId": "7c1470a4-3f12-48ef-f46f-f7bdeac91ac1"
      },
      "outputs": [
        {
          "output_type": "stream",
          "name": "stdout",
          "text": [
            "First study board URL → https://kurser.ku.dk/archive/2023-2024/STUDNÆVN_4761\n",
            "133 course URLs discovered on the board\n",
            "✅  Parsed 133 courses   ❌  Failed 0\n"
          ]
        }
      ],
      "source": [
        "# --- Execution ---\n",
        "# Fetch the year page soup\n",
        "year_soup = get_soup(YEAR_URL)\n",
        "\n",
        "# Reuse discover_studyboard_links() from previous notebook (remember to run it first)\n",
        "board_list = discover_studyboard_links(year_soup, TARGET_YEAR)\n",
        "if not board_list:\n",
        "    raise RuntimeError(\"No study boards found – HTML structure likely changed.\")\n",
        "first_board_url = board_list[0]\n",
        "print(\"First study board URL →\", first_board_url)\n",
        "\n",
        "# Fetch the first board soup and show course links\n",
        "board_soup = get_soup(first_board_url)\n",
        "course_urls = discover_course_links_from_board(board_soup, TARGET_YEAR)\n",
        "print(f\"{len(course_urls)} course URLs discovered on the board\")\n",
        "\n",
        "# Initialise lists for records and failures when extracting web pages\n",
        "records = []\n",
        "failed   = []\n",
        "\n",
        "for url in course_urls:\n",
        "    soup = get_soup(url)\n",
        "    if not soup:\n",
        "        failed.append(url)\n",
        "        continue\n",
        "    try:\n",
        "        rec = extract_course_data(soup, url)\n",
        "        records.append(rec)\n",
        "    except Exception as e:\n",
        "        logging.exception(\"Parse fail on %s\", url)\n",
        "        failed.append(url)\n",
        "    time.sleep(PAUSE_BETWEEN_COURSES)\n",
        "\n",
        "print(f\"✅  Parsed {len(records)} courses   ❌  Failed {len(failed)}\")"
      ]
    },
    {
      "cell_type": "code",
      "execution_count": 12,
      "id": "f408e6bf",
      "metadata": {
        "colab": {
          "base_uri": "https://localhost:8080/",
          "height": 607
        },
        "id": "f408e6bf",
        "outputId": "ff38b655-77a5-4afe-d1c9-ae184fccb943"
      },
      "outputs": [
        {
          "output_type": "display_data",
          "data": {
            "text/plain": [
              "<Figure size 1000x600 with 1 Axes>"
            ],
            "image/png": "[encoded data removed]"
          },
          "metadata": {}
        }
      ],
      "source": [
        "# --- QA ---\n",
        "\n",
        "# Define fields for audit\n",
        "FIELDS = [\n",
        "    \"year\", \"course_code\", \"course_title\",\n",
        "    \"coordinators\", \"coordinator_emails\",\n",
        "    \"content\", \"learning_outcomes\",\n",
        "    \"knowledge\", \"skills\", \"competencies\",\n",
        "    \"language\", \"level\", \"web_lang\"\n",
        "]\n",
        "\n",
        "def is_missing(value):\n",
        "    \"\"\"\n",
        "    True if `value` is None, empty string (after strip),\n",
        "    or an empty list / tuple / set.\n",
        "    \"\"\"\n",
        "    if value is None:\n",
        "        return True\n",
        "    if isinstance(value, str):\n",
        "        return value.strip() == \"\"\n",
        "    if isinstance(value, (list, tuple, set)):\n",
        "        return len(value) == 0\n",
        "    return False\n",
        "\n",
        "# calculate missing counts\n",
        "missing_counts = {fld: 0 for fld in FIELDS}\n",
        "for rec in records:\n",
        "    for fld in FIELDS:\n",
        "        if is_missing(rec.get(fld)):\n",
        "            missing_counts[fld] += 1\n",
        "\n",
        "# Visualize in bar chart scaled to total records\n",
        "total_records = len(records)\n",
        "scaled_missing_counts = {fld: (count / total_records) * 100 for fld, count in missing_counts.items()}\n",
        "\n",
        "plt.figure(figsize=(10, 6))\n",
        "plt.bar(scaled_missing_counts.keys(), scaled_missing_counts.values())\n",
        "plt.xticks(rotation=45, ha=\"right\")\n",
        "plt.ylabel(\"Percentage of missing records (%)\")\n",
        "plt.title(\"Percentage of missing fields across scraped courses\")\n",
        "plt.tight_layout()\n",
        "plt.show()\n"
      ]
    },
    {
      "cell_type": "code",
      "execution_count": 13,
      "id": "6c670815",
      "metadata": {
        "colab": {
          "base_uri": "https://localhost:8080/"
        },
        "id": "6c670815",
        "outputId": "4bab65ce-c4af-4cbc-b5a8-f743ce1c2d03"
      },
      "outputs": [
        {
          "output_type": "stream",
          "name": "stdout",
          "text": [
            "Saved → /content/courses_2023-2024_board.json\n"
          ]
        }
      ],
      "source": [
        "# --- Save Results ---\n",
        "with OUT_FILE.open(\"w\", encoding=\"utf-8\") as f:\n",
        "    json.dump(records, f, ensure_ascii=False, indent=2)\n",
        "\n",
        "# Notify user\n",
        "print(\"Saved →\", OUT_FILE.resolve())"
      ]
    }
  ],
  "metadata": {
    "kernelspec": {
      "display_name": "base",
      "language": "python",
      "name": "python3"
    },
    "language_info": {
      "codemirror_mode": {
        "name": "ipython",
        "version": 3
      },
      "file_extension": ".py",
      "mimetype": "text/x-python",
      "name": "python",
      "nbconvert_exporter": "python",
      "pygments_lexer": "ipython3",
      "version": "3.12.7"
    },
    "colab": {
      "provenance": [],
      "include_colab_link": true
    }
  },
  "nbformat": 4,
  "nbformat_minor": 5
}